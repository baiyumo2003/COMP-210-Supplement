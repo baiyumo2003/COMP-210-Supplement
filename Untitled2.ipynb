{
  "nbformat": 4,
  "nbformat_minor": 0,
  "metadata": {
    "colab": {
      "provenance": [],
      "gpuType": "T4",
      "authorship_tag": "ABX9TyNzw7mQA11GGP4pb9kqnUIJ",
      "include_colab_link": true
    },
    "kernelspec": {
      "name": "python3",
      "display_name": "Python 3"
    },
    "language_info": {
      "name": "python"
    },
    "accelerator": "GPU"
  },
  "cells": [
    {
      "cell_type": "markdown",
      "metadata": {
        "id": "view-in-github",
        "colab_type": "text"
      },
      "source": [
        "<a href=\"https://colab.research.google.com/github/baiyumo2003/COMP-210-Supplement/blob/main/Untitled2.ipynb\" target=\"_parent\"><img src=\"https://colab.research.google.com/assets/colab-badge.svg\" alt=\"Open In Colab\"/></a>"
      ]
    },
    {
      "cell_type": "code",
      "execution_count": 3,
      "metadata": {
        "colab": {
          "base_uri": "https://localhost:8080/"
        },
        "id": "rCPAxNagDD4v",
        "outputId": "054e6275-d6d4-4149-f52d-f7bcf68b6934"
      },
      "outputs": [
        {
          "output_type": "stream",
          "name": "stdout",
          "text": [
            "Cloning into 'GenerativeDiffusionPrior'...\n",
            "remote: Enumerating objects: 377, done.\u001b[K\n",
            "remote: Counting objects: 100% (283/283), done.\u001b[K\n",
            "remote: Compressing objects: 100% (205/205), done.\u001b[K\n",
            "remote: Total 377 (delta 196), reused 152 (delta 75), pack-reused 94\u001b[K\n",
            "Receiving objects: 100% (377/377), 56.90 MiB | 47.10 MiB/s, done.\n",
            "Resolving deltas: 100% (221/221), done.\n"
          ]
        }
      ],
      "source": [
        "!git clone https://github.com/Fayeben/GenerativeDiffusionPrior"
      ]
    },
    {
      "cell_type": "code",
      "source": [
        "cd GenerativeDiffusionPrior/"
      ],
      "metadata": {
        "colab": {
          "base_uri": "https://localhost:8080/"
        },
        "id": "dqmlKDYMGtiN",
        "outputId": "47be6e0e-5436-4791-9f08-0e5d501a9830"
      },
      "execution_count": 5,
      "outputs": [
        {
          "output_type": "stream",
          "name": "stdout",
          "text": [
            "/content/GenerativeDiffusionPrior\n"
          ]
        }
      ]
    },
    {
      "cell_type": "code",
      "source": [
        "pip install -e ."
      ],
      "metadata": {
        "colab": {
          "base_uri": "https://localhost:8080/"
        },
        "id": "wIpLZWpgGvRq",
        "outputId": "6ae30b50-158d-44d7-aaca-0b4c3eff4a1d"
      },
      "execution_count": 6,
      "outputs": [
        {
          "output_type": "stream",
          "name": "stdout",
          "text": [
            "Looking in indexes: https://pypi.org/simple, https://us-python.pkg.dev/colab-wheels/public/simple/\n",
            "Obtaining file:///content/GenerativeDiffusionPrior\n",
            "  Preparing metadata (setup.py) ... \u001b[?25l\u001b[?25hdone\n",
            "Collecting blobfile>=1.0.5 (from guided-diffusion==0.0.0)\n",
            "  Downloading blobfile-2.0.2-py3-none-any.whl (74 kB)\n",
            "\u001b[2K     \u001b[90m━━━━━━━━━━━━━━━━━━━━━━━━━━━━━━━━━━━━━━━━\u001b[0m \u001b[32m74.5/74.5 kB\u001b[0m \u001b[31m3.2 MB/s\u001b[0m eta \u001b[36m0:00:00\u001b[0m\n",
            "\u001b[?25hRequirement already satisfied: torch in /usr/local/lib/python3.10/dist-packages (from guided-diffusion==0.0.0) (2.0.1+cu118)\n",
            "Requirement already satisfied: tqdm in /usr/local/lib/python3.10/dist-packages (from guided-diffusion==0.0.0) (4.65.0)\n",
            "Collecting pycryptodomex~=3.8 (from blobfile>=1.0.5->guided-diffusion==0.0.0)\n",
            "  Downloading pycryptodomex-3.18.0-cp35-abi3-manylinux_2_17_x86_64.manylinux2014_x86_64.whl (2.1 MB)\n",
            "\u001b[2K     \u001b[90m━━━━━━━━━━━━━━━━━━━━━━━━━━━━━━━━━━━━━━━━\u001b[0m \u001b[32m2.1/2.1 MB\u001b[0m \u001b[31m32.7 MB/s\u001b[0m eta \u001b[36m0:00:00\u001b[0m\n",
            "\u001b[?25hRequirement already satisfied: urllib3<3,>=1.25.3 in /usr/local/lib/python3.10/dist-packages (from blobfile>=1.0.5->guided-diffusion==0.0.0) (1.26.15)\n",
            "Requirement already satisfied: lxml~=4.9 in /usr/local/lib/python3.10/dist-packages (from blobfile>=1.0.5->guided-diffusion==0.0.0) (4.9.2)\n",
            "Requirement already satisfied: filelock~=3.0 in /usr/local/lib/python3.10/dist-packages (from blobfile>=1.0.5->guided-diffusion==0.0.0) (3.12.0)\n",
            "Requirement already satisfied: typing-extensions in /usr/local/lib/python3.10/dist-packages (from torch->guided-diffusion==0.0.0) (4.5.0)\n",
            "Requirement already satisfied: sympy in /usr/local/lib/python3.10/dist-packages (from torch->guided-diffusion==0.0.0) (1.11.1)\n",
            "Requirement already satisfied: networkx in /usr/local/lib/python3.10/dist-packages (from torch->guided-diffusion==0.0.0) (3.1)\n",
            "Requirement already satisfied: jinja2 in /usr/local/lib/python3.10/dist-packages (from torch->guided-diffusion==0.0.0) (3.1.2)\n",
            "Requirement already satisfied: triton==2.0.0 in /usr/local/lib/python3.10/dist-packages (from torch->guided-diffusion==0.0.0) (2.0.0)\n",
            "Requirement already satisfied: cmake in /usr/local/lib/python3.10/dist-packages (from triton==2.0.0->torch->guided-diffusion==0.0.0) (3.25.2)\n",
            "Requirement already satisfied: lit in /usr/local/lib/python3.10/dist-packages (from triton==2.0.0->torch->guided-diffusion==0.0.0) (16.0.5)\n",
            "Requirement already satisfied: MarkupSafe>=2.0 in /usr/local/lib/python3.10/dist-packages (from jinja2->torch->guided-diffusion==0.0.0) (2.1.2)\n",
            "Requirement already satisfied: mpmath>=0.19 in /usr/local/lib/python3.10/dist-packages (from sympy->torch->guided-diffusion==0.0.0) (1.3.0)\n",
            "Installing collected packages: pycryptodomex, blobfile, guided-diffusion\n",
            "  Running setup.py develop for guided-diffusion\n",
            "Successfully installed blobfile-2.0.2 guided-diffusion-0.0.0 pycryptodomex-3.18.0\n"
          ]
        }
      ]
    },
    {
      "cell_type": "code",
      "source": [
        "mkdir ckpoint"
      ],
      "metadata": {
        "id": "scVDg0klY_3f"
      },
      "execution_count": 7,
      "outputs": []
    },
    {
      "cell_type": "code",
      "source": [
        "cd ckpoint/"
      ],
      "metadata": {
        "colab": {
          "base_uri": "https://localhost:8080/"
        },
        "id": "-MPbCcaiGzSM",
        "outputId": "d4a8ba8b-d98c-4f9e-99d2-3f3917667ab3"
      },
      "execution_count": 8,
      "outputs": [
        {
          "output_type": "stream",
          "name": "stdout",
          "text": [
            "/content/GenerativeDiffusionPrior/ckpoint\n"
          ]
        }
      ]
    },
    {
      "cell_type": "code",
      "source": [
        "!wget https://openaipublic.blob.core.windows.net/diffusion/jul-2021/256x256_diffusion_uncond.pt"
      ],
      "metadata": {
        "colab": {
          "base_uri": "https://localhost:8080/"
        },
        "id": "3Q2xNkjZD_I9",
        "outputId": "25a1ea2e-6482-4613-c792-e7eb4bf96367"
      },
      "execution_count": 9,
      "outputs": [
        {
          "output_type": "stream",
          "name": "stdout",
          "text": [
            "--2023-06-05 07:09:58--  https://openaipublic.blob.core.windows.net/diffusion/jul-2021/256x256_diffusion_uncond.pt\n",
            "Resolving openaipublic.blob.core.windows.net (openaipublic.blob.core.windows.net)... 20.150.77.132\n",
            "Connecting to openaipublic.blob.core.windows.net (openaipublic.blob.core.windows.net)|20.150.77.132|:443... connected.\n",
            "HTTP request sent, awaiting response... 200 OK\n",
            "Length: 2211383297 (2.1G) [application/octet-stream]\n",
            "Saving to: ‘256x256_diffusion_uncond.pt’\n",
            "\n",
            "256x256_diffusion_u 100%[===================>]   2.06G  41.9MB/s    in 53s     \n",
            "\n",
            "2023-06-05 07:10:51 (40.0 MB/s) - ‘256x256_diffusion_uncond.pt’ saved [2211383297/2211383297]\n",
            "\n"
          ]
        }
      ]
    },
    {
      "cell_type": "code",
      "source": [
        "!wget https://openaipublic.blob.core.windows.net/diffusion/jul-2021/ref_batches/imagenet/64/biggan_deep_imagenet64.npz"
      ],
      "metadata": {
        "colab": {
          "base_uri": "https://localhost:8080/"
        },
        "id": "zTANlDVwF5Sq",
        "outputId": "c684c94b-5710-4b3a-e9a4-15dba97722af"
      },
      "execution_count": 10,
      "outputs": [
        {
          "output_type": "stream",
          "name": "stdout",
          "text": [
            "--2023-06-05 07:10:51--  https://openaipublic.blob.core.windows.net/diffusion/jul-2021/ref_batches/imagenet/64/biggan_deep_imagenet64.npz\n",
            "Resolving openaipublic.blob.core.windows.net (openaipublic.blob.core.windows.net)... 20.150.77.132\n",
            "Connecting to openaipublic.blob.core.windows.net (openaipublic.blob.core.windows.net)|20.150.77.132|:443... connected.\n",
            "HTTP request sent, awaiting response... 200 OK\n",
            "Length: 640400740 (611M) [application/octet-stream]\n",
            "Saving to: ‘biggan_deep_imagenet64.npz’\n",
            "\n",
            "biggan_deep_imagene 100%[===================>] 610.73M  41.9MB/s    in 15s     \n",
            "\n",
            "2023-06-05 07:11:07 (39.5 MB/s) - ‘biggan_deep_imagenet64.npz’ saved [640400740/640400740]\n",
            "\n"
          ]
        }
      ]
    },
    {
      "cell_type": "code",
      "source": [
        "!wget https://openaipublic.blob.core.windows.net/diffusion/jul-2021/ref_batches/lsun/bedroom/stylegan_lsun_bedroom.npz"
      ],
      "metadata": {
        "colab": {
          "base_uri": "https://localhost:8080/"
        },
        "id": "eOhSTQKgF6z3",
        "outputId": "34b435a0-8190-4ff1-98e5-4f4ceddaa900"
      },
      "execution_count": 11,
      "outputs": [
        {
          "output_type": "stream",
          "name": "stdout",
          "text": [
            "--2023-06-05 07:11:07--  https://openaipublic.blob.core.windows.net/diffusion/jul-2021/ref_batches/lsun/bedroom/stylegan_lsun_bedroom.npz\n",
            "Resolving openaipublic.blob.core.windows.net (openaipublic.blob.core.windows.net)... 20.150.77.132\n",
            "Connecting to openaipublic.blob.core.windows.net (openaipublic.blob.core.windows.net)|20.150.77.132|:443... connected.\n",
            "HTTP request sent, awaiting response... 200 OK\n",
            "Length: 9830400360 (9.2G) [application/octet-stream]\n",
            "Saving to: ‘stylegan_lsun_bedroom.npz’\n",
            "\n",
            "stylegan_lsun_bedro 100%[===================>]   9.16G  40.9MB/s    in 4m 0s   \n",
            "\n",
            "2023-06-05 07:15:07 (39.1 MB/s) - ‘stylegan_lsun_bedroom.npz’ saved [9830400360/9830400360]\n",
            "\n"
          ]
        }
      ]
    },
    {
      "cell_type": "code",
      "source": [
        "!wget https://openaipublic.blob.core.windows.net/diffusion/jul-2021/ref_batches/lsun/cat/stylegan2_lsun_cat.npz"
      ],
      "metadata": {
        "colab": {
          "base_uri": "https://localhost:8080/"
        },
        "id": "hTKoPwcPGWxM",
        "outputId": "1c285314-00d4-44f6-80b6-3ae5548c1d93"
      },
      "execution_count": 12,
      "outputs": [
        {
          "output_type": "stream",
          "name": "stdout",
          "text": [
            "--2023-06-05 07:15:07--  https://openaipublic.blob.core.windows.net/diffusion/jul-2021/ref_batches/lsun/cat/stylegan2_lsun_cat.npz\n",
            "Resolving openaipublic.blob.core.windows.net (openaipublic.blob.core.windows.net)... 20.150.77.132\n",
            "Connecting to openaipublic.blob.core.windows.net (openaipublic.blob.core.windows.net)|20.150.77.132|:443... connected.\n",
            "HTTP request sent, awaiting response... 200 OK\n",
            "Length: 9830400360 (9.2G) [application/octet-stream]\n",
            "Saving to: ‘stylegan2_lsun_cat.npz’\n",
            "\n",
            "stylegan2_lsun_cat. 100%[===================>]   9.16G  40.1MB/s    in 4m 2s   \n",
            "\n",
            "2023-06-05 07:19:09 (38.8 MB/s) - ‘stylegan2_lsun_cat.npz’ saved [9830400360/9830400360]\n",
            "\n"
          ]
        }
      ]
    },
    {
      "cell_type": "code",
      "source": [
        "cd Data_Sample"
      ],
      "metadata": {
        "colab": {
          "base_uri": "https://localhost:8080/"
        },
        "id": "9MtniHWcZKsc",
        "outputId": "8c53185f-1916-4036-8b83-6d313cc9343d"
      },
      "execution_count": 15,
      "outputs": [
        {
          "output_type": "stream",
          "name": "stdout",
          "text": [
            "/content/GenerativeDiffusionPrior/Data_Sample\n"
          ]
        }
      ]
    },
    {
      "cell_type": "code",
      "source": [
        "!wget --header='Host: doc-0o-bk-docs.googleusercontent.com' --header='User-Agent: Mozilla/5.0 (Macintosh; Intel Mac OS X 10_15_7) AppleWebKit/537.36 (KHTML, like Gecko) Chrome/113.0.0.0 Safari/537.36' --header='Accept: text/html,application/xhtml+xml,application/xml;q=0.9,image/avif,image/webp,image/apng,*/*;q=0.8,application/signed-exchange;v=b3;q=0.7' --header='Accept-Language: zh-CN,zh;q=0.9' --header='Cookie: AUTH_g5a3ekmuisbnbntt2m5hbr087d9a0vfi_nonce=lau984nmnrol2' --header='Connection: keep-alive' 'https://doc-0o-bk-docs.googleusercontent.com/docs/securesc/mvm7g7s9bihmt41ah2bv1v00nqqht9fk/9a8ud8qtl1kt0h79faffml60evukbdio/1685949600000/10847207979154740006/12766312375778782395/13uLyfDs8IUF16L4UdCf1aqrt6jcSKUKm?e=download&ax=ADWCPKDvI3oCOuCqFlCO_jrcCZe153TeoX7fj6_vxNEly3Y_nLOSeEEWDezKkxaumDJyM2ZVOhLFgv3J2eqM4SYWGD4o-uaExr3sGZvqBtkaf1IwSEP7G1-xmV1BBEDjbKxIvYHNNbthgoTz6NPiIG9lg9aVYaK91bF0TA3ccH8D-sNEPvH8iqZnAEHknA3RIidvyklfni0xVAsJf6eQX6BxZIx5g7ediPzEpP9ber4oVraw7KzxYoY2rFrVXpUluFmBkat_RA_bY9ZM6xJzGwZZSsSqkfAXX7EQyLQ1dWTaOvtIRFOr3__q7XjGU9DTV1m6DG0R1ab445Mzc1fSnIcH6hiRQz4dflkJClR33zuwIuh0A-DV0f2YP6ZymoWAJe2SfMzF16hiGs1xkMTmETd-abKdG324Zy_RHQkt9MylVcW1tkT8r1EHVPoJ1-lAznqhrabSwNRa4UhmL2AXZmFd0JHPhroWF-FaIDTq14Nksjj2vCPEtnm7t9YhvLoMAnFL_7RrjJaLo7dvWa0if81iFKH7UsDLlsFNu1qfonTBklHuCTd4EXKBi49ytVFtIsqDGXpc3IhqD6jHz4Sergm9DtEv7u1DDlgLDXZQGmTUDG4W7WmLa_d5xoUHh-S3aHBcM7bVUE4g4ovVaMi-26e77eB4cZispZuZ__20DpqzOOotm42ULzbq3LENt7O1TD4L3Xh_nuel37ZnGH3PfAgI_EBeKKBpQzC74YAyu7559kKiv1V7o8kVh3lrTrVF4zrmwT0ANJSmvRs52-EERidWf_zNcHbKP8qx6K3sPzYs3bYBlOxzfwamBofaGTUfc5fMI0CAUBWDkXVCdbUKmUJEPaQ5vD_J9pkorYufOqaB5O69kVrwv3T8LN_--w_tJJ0i-usT7dLaO12TDhiim-cYirk9EUeP&uuid=30618204-28b6-4515-8b42-70e6a1ce572a&authuser=0&nonce=lau984nmnrol2&user=12766312375778782395&hash=tfii1f2jvu2868iugslduj854a2cpjdp' -c -O 'hdr_100_long_resolution_256.npz'"
      ],
      "metadata": {
        "colab": {
          "base_uri": "https://localhost:8080/"
        },
        "id": "Z667N8rDVsvR",
        "outputId": "0ddda017-b28a-40fd-a012-b6109f348d80"
      },
      "execution_count": 20,
      "outputs": [
        {
          "output_type": "stream",
          "name": "stdout",
          "text": [
            "--2023-06-05 07:20:19--  https://doc-0o-bk-docs.googleusercontent.com/docs/securesc/mvm7g7s9bihmt41ah2bv1v00nqqht9fk/9a8ud8qtl1kt0h79faffml60evukbdio/1685949600000/10847207979154740006/12766312375778782395/13uLyfDs8IUF16L4UdCf1aqrt6jcSKUKm?e=download&ax=ADWCPKDvI3oCOuCqFlCO_jrcCZe153TeoX7fj6_vxNEly3Y_nLOSeEEWDezKkxaumDJyM2ZVOhLFgv3J2eqM4SYWGD4o-uaExr3sGZvqBtkaf1IwSEP7G1-xmV1BBEDjbKxIvYHNNbthgoTz6NPiIG9lg9aVYaK91bF0TA3ccH8D-sNEPvH8iqZnAEHknA3RIidvyklfni0xVAsJf6eQX6BxZIx5g7ediPzEpP9ber4oVraw7KzxYoY2rFrVXpUluFmBkat_RA_bY9ZM6xJzGwZZSsSqkfAXX7EQyLQ1dWTaOvtIRFOr3__q7XjGU9DTV1m6DG0R1ab445Mzc1fSnIcH6hiRQz4dflkJClR33zuwIuh0A-DV0f2YP6ZymoWAJe2SfMzF16hiGs1xkMTmETd-abKdG324Zy_RHQkt9MylVcW1tkT8r1EHVPoJ1-lAznqhrabSwNRa4UhmL2AXZmFd0JHPhroWF-FaIDTq14Nksjj2vCPEtnm7t9YhvLoMAnFL_7RrjJaLo7dvWa0if81iFKH7UsDLlsFNu1qfonTBklHuCTd4EXKBi49ytVFtIsqDGXpc3IhqD6jHz4Sergm9DtEv7u1DDlgLDXZQGmTUDG4W7WmLa_d5xoUHh-S3aHBcM7bVUE4g4ovVaMi-26e77eB4cZispZuZ__20DpqzOOotm42ULzbq3LENt7O1TD4L3Xh_nuel37ZnGH3PfAgI_EBeKKBpQzC74YAyu7559kKiv1V7o8kVh3lrTrVF4zrmwT0ANJSmvRs52-EERidWf_zNcHbKP8qx6K3sPzYs3bYBlOxzfwamBofaGTUfc5fMI0CAUBWDkXVCdbUKmUJEPaQ5vD_J9pkorYufOqaB5O69kVrwv3T8LN_--w_tJJ0i-usT7dLaO12TDhiim-cYirk9EUeP&uuid=30618204-28b6-4515-8b42-70e6a1ce572a&authuser=0&nonce=lau984nmnrol2&user=12766312375778782395&hash=tfii1f2jvu2868iugslduj854a2cpjdp\n",
            "Resolving doc-0o-bk-docs.googleusercontent.com (doc-0o-bk-docs.googleusercontent.com)... 108.177.13.132, 2607:f8b0:400c:c09::84\n",
            "Connecting to doc-0o-bk-docs.googleusercontent.com (doc-0o-bk-docs.googleusercontent.com)|108.177.13.132|:443... connected.\n",
            "HTTP request sent, awaiting response... 200 OK\n",
            "Length: 604200606 (576M) [application/x-zip]\n",
            "Saving to: ‘hdr_100_long_resolution_256.npz’\n",
            "\n",
            "hdr_100_long_resolu 100%[===================>] 576.21M  96.7MB/s    in 5.7s    \n",
            "\n",
            "2023-06-05 07:20:25 (101 MB/s) - ‘hdr_100_long_resolution_256.npz’ saved [604200606/604200606]\n",
            "\n"
          ]
        }
      ]
    },
    {
      "cell_type": "code",
      "source": [
        "!wget --header='Host: doc-0k-bk-docs.googleusercontent.com' --header='User-Agent: Mozilla/5.0 (Macintosh; Intel Mac OS X 10_15_7) AppleWebKit/537.36 (KHTML, like Gecko) Chrome/113.0.0.0 Safari/537.36' --header='Accept: text/html,application/xhtml+xml,application/xml;q=0.9,image/avif,image/webp,image/apng,*/*;q=0.8,application/signed-exchange;v=b3;q=0.7' --header='Accept-Language: zh-CN,zh;q=0.9' --header='Cookie: AUTH_g5a3ekmuisbnbntt2m5hbr087d9a0vfi=12766312375778782395|1685949600000|pelp4jddjqpdrjrd9noedjbmggb7rbni' --header='Connection: keep-alive' 'https://doc-0k-bk-docs.googleusercontent.com/docs/securesc/mvm7g7s9bihmt41ah2bv1v00nqqht9fk/14vrd15kpr76tp9c8kb1o8b6943ir8tb/1685949600000/10847207979154740006/12766312375778782395/1WofIJn3qfAQLz7fLVIqh6y1cOcUzGsE8?e=download&ax=ADWCPKAuWsXMn4m5iLwrHTVTPdsMKn3cJpZ2KOwN48e_GouVv4XD80jz6WaZuVJXZ49taDDVXNgsNjbhDbxdbE4JiR7dsQtNX7b6kyhGjWOZICkl8zD5RcBtAgze8IfIx-TAkGSNTIZAp0rN4MBviAxHD-75DEzfdwKf1fN2UuDhlbpEEceOOaYtB-9bEqXPEEKQS4cw0IceAxK64vU9odglJ2ls03IEXY4Eh1zNcO8ZonhnGLuijGSMb23vpKIFEWWDgUuX_FtRnjv7IxQNCN5LCf81JscedSRnQ20b7gvE6gTCxiFeTkWGFYENzYc2xFq9356P6xANxgAHQF1TeRqJW0mp-C76QFqORdaCwLNhTVcTz6hdZkyU1DI70vHmipeGWinDTwr8zcdV7b1iDy7Bk3l3fRObSgUR1NHCTifeelipCrj6Bv1vkH5EAcn5l5Qt8dPMkP_QguI-fMypya6_3Je7jesA_yakBrDSoRtTjWzcdUSLY_gc6gNQ3BUyd-2raRS8WXpBwcp4vUBW5BgN99s-jRw4vd3mS7H6hp3MJKRGyja067oVh36l3k5xr5DFOBcibKx2Mew_jXmnUQx4GH4-cWj1v_gICcDKTZtWQZrwnknzMquoUaNJrlgkP43QClohU2wkVm5aT2teDui2VyOYSp83Imo3TRpTDokqzDEzuAeoj_l0nmM9pWJX7t7Dw1fb6bKZPNSrW1YsZX-KJ_Gq5qeijNXxKYlhgHiXZmKNZGGBUnf15vfdYVzuaRDNPi1S7sxKiD2mqjSqJEGzU_ZBlCosK8y-nbd_WNAz67qML3jLQgpBv0Xv3V2dOeEKvBvlk2jnWr8DAcIH8D1eP9hKqTQcXIIW4d4Xps8qpxohzHnbr3w0X7RgxbYQjbJkEUtf57IPyd3tZneqcuaEzpGX-rmo&uuid=29beda7d-456e-4857-bfe6-af4f0d29d65a&authuser=0' -c -O 'hdr_100_medium_resolution_256.npz'"
      ],
      "metadata": {
        "colab": {
          "base_uri": "https://localhost:8080/"
        },
        "id": "zdMxTMkTW0tw",
        "outputId": "634c84d1-3502-438a-d0e8-d761ed1bf0c2"
      },
      "execution_count": 21,
      "outputs": [
        {
          "output_type": "stream",
          "name": "stdout",
          "text": [
            "--2023-06-05 07:20:54--  https://doc-0k-bk-docs.googleusercontent.com/docs/securesc/mvm7g7s9bihmt41ah2bv1v00nqqht9fk/14vrd15kpr76tp9c8kb1o8b6943ir8tb/1685949600000/10847207979154740006/12766312375778782395/1WofIJn3qfAQLz7fLVIqh6y1cOcUzGsE8?e=download&ax=ADWCPKAuWsXMn4m5iLwrHTVTPdsMKn3cJpZ2KOwN48e_GouVv4XD80jz6WaZuVJXZ49taDDVXNgsNjbhDbxdbE4JiR7dsQtNX7b6kyhGjWOZICkl8zD5RcBtAgze8IfIx-TAkGSNTIZAp0rN4MBviAxHD-75DEzfdwKf1fN2UuDhlbpEEceOOaYtB-9bEqXPEEKQS4cw0IceAxK64vU9odglJ2ls03IEXY4Eh1zNcO8ZonhnGLuijGSMb23vpKIFEWWDgUuX_FtRnjv7IxQNCN5LCf81JscedSRnQ20b7gvE6gTCxiFeTkWGFYENzYc2xFq9356P6xANxgAHQF1TeRqJW0mp-C76QFqORdaCwLNhTVcTz6hdZkyU1DI70vHmipeGWinDTwr8zcdV7b1iDy7Bk3l3fRObSgUR1NHCTifeelipCrj6Bv1vkH5EAcn5l5Qt8dPMkP_QguI-fMypya6_3Je7jesA_yakBrDSoRtTjWzcdUSLY_gc6gNQ3BUyd-2raRS8WXpBwcp4vUBW5BgN99s-jRw4vd3mS7H6hp3MJKRGyja067oVh36l3k5xr5DFOBcibKx2Mew_jXmnUQx4GH4-cWj1v_gICcDKTZtWQZrwnknzMquoUaNJrlgkP43QClohU2wkVm5aT2teDui2VyOYSp83Imo3TRpTDokqzDEzuAeoj_l0nmM9pWJX7t7Dw1fb6bKZPNSrW1YsZX-KJ_Gq5qeijNXxKYlhgHiXZmKNZGGBUnf15vfdYVzuaRDNPi1S7sxKiD2mqjSqJEGzU_ZBlCosK8y-nbd_WNAz67qML3jLQgpBv0Xv3V2dOeEKvBvlk2jnWr8DAcIH8D1eP9hKqTQcXIIW4d4Xps8qpxohzHnbr3w0X7RgxbYQjbJkEUtf57IPyd3tZneqcuaEzpGX-rmo&uuid=29beda7d-456e-4857-bfe6-af4f0d29d65a&authuser=0\n",
            "Resolving doc-0k-bk-docs.googleusercontent.com (doc-0k-bk-docs.googleusercontent.com)... 108.177.13.132, 2607:f8b0:400c:c09::84\n",
            "Connecting to doc-0k-bk-docs.googleusercontent.com (doc-0k-bk-docs.googleusercontent.com)|108.177.13.132|:443... connected.\n",
            "HTTP request sent, awaiting response... 200 OK\n",
            "Length: 604200606 (576M) [application/x-zip]\n",
            "Saving to: ‘hdr_100_medium_resolution_256.npz’\n",
            "\n",
            "hdr_100_medium_reso 100%[===================>] 576.21M  99.8MB/s    in 6.2s    \n",
            "\n",
            "2023-06-05 07:21:01 (92.2 MB/s) - ‘hdr_100_medium_resolution_256.npz’ saved [604200606/604200606]\n",
            "\n"
          ]
        }
      ]
    },
    {
      "cell_type": "code",
      "source": [
        "!wget --header='Host: doc-00-bk-docs.googleusercontent.com' --header='User-Agent: Mozilla/5.0 (Macintosh; Intel Mac OS X 10_15_7) AppleWebKit/537.36 (KHTML, like Gecko) Chrome/113.0.0.0 Safari/537.36' --header='Accept: text/html,application/xhtml+xml,application/xml;q=0.9,image/avif,image/webp,image/apng,*/*;q=0.8,application/signed-exchange;v=b3;q=0.7' --header='Accept-Language: zh-CN,zh;q=0.9' --header='Cookie: AUTH_g5a3ekmuisbnbntt2m5hbr087d9a0vfi=12766312375778782395|1685949600000|pelp4jddjqpdrjrd9noedjbmggb7rbni' --header='Connection: keep-alive' 'https://doc-00-bk-docs.googleusercontent.com/docs/securesc/mvm7g7s9bihmt41ah2bv1v00nqqht9fk/e7618eeg3u9ksocqjg1di330q1dv6pu2/1685949600000/10847207979154740006/12766312375778782395/1K4ZicpSkD9HwPm7-kxsAHF2-wlmXRfPI?e=download&ax=ADWCPKBVw14kxa2uirg5QB4oGVUjzvlS9BdzhjVi5s9tAuwblsCYZs0ttX9IEJKX_IFwbdouBXfNhMzycSs4MOmmUMJP5ZkOk7KlswPwkv9IDX0z-CFa3oMrmb2tYoLOvGRjoPwHd0XNf62sDOIIPU4iPzypKk5_Oh7jJ5ql8boyzuTZjKZUREY8m7fA834g03wyWqs6XG8UsSzxjIVk_rinfxconITqcCuO-d9UIkMQ6f4BqcSSahJZUFJPgZFsNvd7bpQwS6cMphnNNPoRlh9Z3vPk4xDk9nsP6q3dR0k77iVldpskZAZVmbH9cyutd2St-YI7djlA32Eimo3tOIK7tovWWFZYzkL-bhIU3dloW9tajv3TD2PPA3VrWtf4harYyMIHOk7lo7DQj8pp8xI-eyCwb37xIL3eFDnl6s_paKGhXt5nEjtnAM3mTPH2PcB3SjRQ_sq-wZSp-zD14UhyHwGjcJ7hC6s7bjXmYmrpJzalGk4jQmRAQQaI6MIs72vh4uIn47DVdLtK-JT4ivhH0tupD5qNhChcqPSaBGIU9egPPQSk1RSJ9exIBe1W0RStAYKEt_A2iqDt5IzhlrE7w8U9SdQzg4clehJ3qfwbGFiANFrXMf75LhXyMMxZ9aR2CDPAgi2DNIarznWbucvJooLF3yRlIcETpanLCzscfXFe1TtXfd3QZeWvCmqk8wOsJ04ofPJsF07swsKrWMtLoQNAa_UO0jmUxtLj5VhBk3WzqXX_p2Sv4oHGc19aSViqyUdH_m0IC6JsdEUdGAcLdmG9JM4GD3feJd49Jqn9oAYUcMZ4zvH8zXMnli5EL6VioCgQTAgHObEeJVgkG_x0BCylbe3S26JpceyE7VIS1rHU70YMcD31MK58Nchmpym-OBR2qfv0yO5YGUYzlDheC6dh9B-O&uuid=270ad1c4-cc7a-423d-8532-ea501d910bda&authuser=0' -c -O 'hdr_100_short_resolution_256.npz'"
      ],
      "metadata": {
        "colab": {
          "base_uri": "https://localhost:8080/"
        },
        "id": "osJiD6_vW79V",
        "outputId": "d145d443-424e-4ae1-9b62-c76aa92c179b"
      },
      "execution_count": 22,
      "outputs": [
        {
          "output_type": "stream",
          "name": "stdout",
          "text": [
            "--2023-06-05 07:21:17--  https://doc-00-bk-docs.googleusercontent.com/docs/securesc/mvm7g7s9bihmt41ah2bv1v00nqqht9fk/e7618eeg3u9ksocqjg1di330q1dv6pu2/1685949600000/10847207979154740006/12766312375778782395/1K4ZicpSkD9HwPm7-kxsAHF2-wlmXRfPI?e=download&ax=ADWCPKBVw14kxa2uirg5QB4oGVUjzvlS9BdzhjVi5s9tAuwblsCYZs0ttX9IEJKX_IFwbdouBXfNhMzycSs4MOmmUMJP5ZkOk7KlswPwkv9IDX0z-CFa3oMrmb2tYoLOvGRjoPwHd0XNf62sDOIIPU4iPzypKk5_Oh7jJ5ql8boyzuTZjKZUREY8m7fA834g03wyWqs6XG8UsSzxjIVk_rinfxconITqcCuO-d9UIkMQ6f4BqcSSahJZUFJPgZFsNvd7bpQwS6cMphnNNPoRlh9Z3vPk4xDk9nsP6q3dR0k77iVldpskZAZVmbH9cyutd2St-YI7djlA32Eimo3tOIK7tovWWFZYzkL-bhIU3dloW9tajv3TD2PPA3VrWtf4harYyMIHOk7lo7DQj8pp8xI-eyCwb37xIL3eFDnl6s_paKGhXt5nEjtnAM3mTPH2PcB3SjRQ_sq-wZSp-zD14UhyHwGjcJ7hC6s7bjXmYmrpJzalGk4jQmRAQQaI6MIs72vh4uIn47DVdLtK-JT4ivhH0tupD5qNhChcqPSaBGIU9egPPQSk1RSJ9exIBe1W0RStAYKEt_A2iqDt5IzhlrE7w8U9SdQzg4clehJ3qfwbGFiANFrXMf75LhXyMMxZ9aR2CDPAgi2DNIarznWbucvJooLF3yRlIcETpanLCzscfXFe1TtXfd3QZeWvCmqk8wOsJ04ofPJsF07swsKrWMtLoQNAa_UO0jmUxtLj5VhBk3WzqXX_p2Sv4oHGc19aSViqyUdH_m0IC6JsdEUdGAcLdmG9JM4GD3feJd49Jqn9oAYUcMZ4zvH8zXMnli5EL6VioCgQTAgHObEeJVgkG_x0BCylbe3S26JpceyE7VIS1rHU70YMcD31MK58Nchmpym-OBR2qfv0yO5YGUYzlDheC6dh9B-O&uuid=270ad1c4-cc7a-423d-8532-ea501d910bda&authuser=0\n",
            "Resolving doc-00-bk-docs.googleusercontent.com (doc-00-bk-docs.googleusercontent.com)... 108.177.13.132, 2607:f8b0:400c:c09::84\n",
            "Connecting to doc-00-bk-docs.googleusercontent.com (doc-00-bk-docs.googleusercontent.com)|108.177.13.132|:443... connected.\n",
            "HTTP request sent, awaiting response... 200 OK\n",
            "Length: 604200606 (576M) [application/x-zip]\n",
            "Saving to: ‘hdr_100_short_resolution_256.npz’\n",
            "\n",
            "hdr_100_short_resol 100%[===================>] 576.21M  50.4MB/s    in 6.9s    \n",
            "\n",
            "2023-06-05 07:21:24 (83.0 MB/s) - ‘hdr_100_short_resolution_256.npz’ saved [604200606/604200606]\n",
            "\n"
          ]
        }
      ]
    },
    {
      "cell_type": "code",
      "source": [
        "!wget --header='Host: doc-0s-bk-docs.googleusercontent.com' --header='User-Agent: Mozilla/5.0 (Macintosh; Intel Mac OS X 10_15_7) AppleWebKit/537.36 (KHTML, like Gecko) Chrome/113.0.0.0 Safari/537.36' --header='Accept: text/html,application/xhtml+xml,application/xml;q=0.9,image/avif,image/webp,image/apng,*/*;q=0.8,application/signed-exchange;v=b3;q=0.7' --header='Accept-Language: zh-CN,zh;q=0.9' --header='Cookie: AUTH_g5a3ekmuisbnbntt2m5hbr087d9a0vfi=12766312375778782395|1685949600000|pelp4jddjqpdrjrd9noedjbmggb7rbni' --header='Connection: keep-alive' 'https://doc-0s-bk-docs.googleusercontent.com/docs/securesc/mvm7g7s9bihmt41ah2bv1v00nqqht9fk/ut8c9lkfub8klpd96p38h3qbhglvrnl5/1685949675000/10847207979154740006/12766312375778782395/1vlzWsW21ieVcJKTR1nAhWlhlA5Y9FyhD?e=download&ax=ADWCPKDsuE4FQY4-AIgJydxd4V00aJHJOkkc0acPYgKKGvzB7QMSU-i12TMJfe40bcUW3Z9EQQFx-_C6JUVE4OlnUxZEk3HIO_ee0ET2xRZA5J_Fpqrqqrubk1YBvOPmBDogVWY0XtSQLrSgbGWs_-7cGdPBcNLF0fpYr4O0jBn164QjcDAuWbcG-CQ1jffwVXnioXVcQzltjTDXKthcx-lheczcd3T25fuCPSsdXKCM0Y3vxR8p11oSKxilKze6V4cEdfv7qBOrOPPxsf7GaLtNKIZowGadqgpnCypPmKn5cmT7HasgWm9GlkicdOkuLi_coObF3nFnQYWa_dRBOKyE3_ds-8wNifrlQY72TMtm3JXeAhd8bwHadfYcqoqg3PmQiAa0C-DGR8HeHyNSrh6TEjf-Qp7wXfc5G_wN3dJAk4Q8zv93cDXKbyfzvHGkA1gzEtSMXQlABwRo5Xi264bA1qGTAnzoGCLPUOBVsH6kuM0Nhe9p8BAiBVBn68zy6Hx5MbHuExAqJG2UkD-5UI6rp5mQIINrMGQj9uENlJrTJ_EjrB4vGjCTwxNcu339Ig7br0yLMLwEE-E87aR7SYMtppXlPw9yK3xraFcC6y9Sj0au2k0uDdgxpE8T05lUSJTTyEqh4SrMV2lFXvRYgSHb-MS3OJG8qz3YoL4UCvg2rl3iArQzgDXtMx_H8a-gknYKm5BB1ua5mLBboOolOZidLtA8Tj1HSaWwhtnHLNV4Ct_iMgDSWd1LODw_26G-di3vv3O62rs_udY4ICJNQOCwov3_tDaFqyPVex3CS01jk7bxJw0F9YggvRO8L8ErsdebcQ3t8sMq1YnLGlaIwZQfdhGId8ClVHRI0o78unQf4_PiKV2c1vkUEAXytPSvyl8mKBsYecHVW1N02rXG4mx7Dgq1fDf7&uuid=893d742b-fd84-4b03-b669-89348a21bb75&authuser=0' -c -O 'LOL_low_resolution_256.npz'"
      ],
      "metadata": {
        "colab": {
          "base_uri": "https://localhost:8080/"
        },
        "id": "DOQNiRtwXASL",
        "outputId": "814395a2-3c60-4056-ab39-d48cdabdc5e2"
      },
      "execution_count": 23,
      "outputs": [
        {
          "output_type": "stream",
          "name": "stdout",
          "text": [
            "--2023-06-05 07:21:44--  https://doc-0s-bk-docs.googleusercontent.com/docs/securesc/mvm7g7s9bihmt41ah2bv1v00nqqht9fk/ut8c9lkfub8klpd96p38h3qbhglvrnl5/1685949675000/10847207979154740006/12766312375778782395/1vlzWsW21ieVcJKTR1nAhWlhlA5Y9FyhD?e=download&ax=ADWCPKDsuE4FQY4-AIgJydxd4V00aJHJOkkc0acPYgKKGvzB7QMSU-i12TMJfe40bcUW3Z9EQQFx-_C6JUVE4OlnUxZEk3HIO_ee0ET2xRZA5J_Fpqrqqrubk1YBvOPmBDogVWY0XtSQLrSgbGWs_-7cGdPBcNLF0fpYr4O0jBn164QjcDAuWbcG-CQ1jffwVXnioXVcQzltjTDXKthcx-lheczcd3T25fuCPSsdXKCM0Y3vxR8p11oSKxilKze6V4cEdfv7qBOrOPPxsf7GaLtNKIZowGadqgpnCypPmKn5cmT7HasgWm9GlkicdOkuLi_coObF3nFnQYWa_dRBOKyE3_ds-8wNifrlQY72TMtm3JXeAhd8bwHadfYcqoqg3PmQiAa0C-DGR8HeHyNSrh6TEjf-Qp7wXfc5G_wN3dJAk4Q8zv93cDXKbyfzvHGkA1gzEtSMXQlABwRo5Xi264bA1qGTAnzoGCLPUOBVsH6kuM0Nhe9p8BAiBVBn68zy6Hx5MbHuExAqJG2UkD-5UI6rp5mQIINrMGQj9uENlJrTJ_EjrB4vGjCTwxNcu339Ig7br0yLMLwEE-E87aR7SYMtppXlPw9yK3xraFcC6y9Sj0au2k0uDdgxpE8T05lUSJTTyEqh4SrMV2lFXvRYgSHb-MS3OJG8qz3YoL4UCvg2rl3iArQzgDXtMx_H8a-gknYKm5BB1ua5mLBboOolOZidLtA8Tj1HSaWwhtnHLNV4Ct_iMgDSWd1LODw_26G-di3vv3O62rs_udY4ICJNQOCwov3_tDaFqyPVex3CS01jk7bxJw0F9YggvRO8L8ErsdebcQ3t8sMq1YnLGlaIwZQfdhGId8ClVHRI0o78unQf4_PiKV2c1vkUEAXytPSvyl8mKBsYecHVW1N02rXG4mx7Dgq1fDf7&uuid=893d742b-fd84-4b03-b669-89348a21bb75&authuser=0\n",
            "Resolving doc-0s-bk-docs.googleusercontent.com (doc-0s-bk-docs.googleusercontent.com)... 108.177.13.132, 2607:f8b0:400c:c09::84\n",
            "Connecting to doc-0s-bk-docs.googleusercontent.com (doc-0s-bk-docs.googleusercontent.com)|108.177.13.132|:443... connected.\n",
            "HTTP request sent, awaiting response... 200 OK\n",
            "Length: 10800521 (10M) [application/x-zip]\n",
            "Saving to: ‘LOL_low_resolution_256.npz’\n",
            "\n",
            "LOL_low_resolution_ 100%[===================>]  10.30M  54.0MB/s    in 0.2s    \n",
            "\n",
            "2023-06-05 07:21:44 (54.0 MB/s) - ‘LOL_low_resolution_256.npz’ saved [10800521/10800521]\n",
            "\n"
          ]
        }
      ]
    },
    {
      "cell_type": "code",
      "source": [
        "!MODEL_FLAGS=\"--attention_resolutions 32,16,8 --class_cond False --diffusion_steps 1000 --image_size 256 --learn_sigma True --noise_schedule linear --num_channels 256 --num_head_channels 64 --num_res_blocks 2 --resblock_updown True --use_fp16 True --use_scale_shift_norm True\"\n",
        "!python sample_x0_sr4.py  $MODEL_FLAGS --use_img_for_guidance --start_from_scratch --save_png_files"
      ],
      "metadata": {
        "id": "a8urskr2XFUv",
        "colab": {
          "base_uri": "https://localhost:8080/"
        },
        "outputId": "0ec64471-1646-4b41-873c-1f67c04386cc"
      },
      "execution_count": 32,
      "outputs": [
        {
          "output_type": "stream",
          "name": "stdout",
          "text": [
            "Logging to /content/GenerativeDiffusionPrior/generated_image/generated_image_x0_GDP_sr4\n",
            "creating model and diffusion...\n",
            "loading dataset...\n",
            "Traceback (most recent call last):\n",
            "  File \"/content/GenerativeDiffusionPrior/scripts/sample_x0_sr4.py\", line 284, in <module>\n",
            "    main()\n",
            "  File \"/content/GenerativeDiffusionPrior/scripts/sample_x0_sr4.py\", line 144, in main\n",
            "    dataset_lr = get_dataset(args.base_samples, args.global_rank, args.world_size)\n",
            "  File \"/content/GenerativeDiffusionPrior/scripts/sample_x0_sr4.py\", line 39, in get_dataset\n",
            "    dataset = ImageFolderDataset(path, label_file='./imagenet_dataloader/imagenet_val_labels.pkl', transform=None, \n",
            "  File \"/content/GenerativeDiffusionPrior/scripts/imagenet_dataloader/imagenet_dataset.py\", line 17, in __init__\n",
            "    for f in os.listdir(self.folder_path):\n",
            "FileNotFoundError: [Errno 2] No such file or directory: '/content/GenerativeDiffusionPrior/ckpoint/sr4_resolution_256.npz'\n"
          ]
        }
      ]
    },
    {
      "cell_type": "code",
      "source": [
        "cd scripts"
      ],
      "metadata": {
        "colab": {
          "base_uri": "https://localhost:8080/"
        },
        "id": "4oLvHIYBXVnd",
        "outputId": "4b18d18b-2957-45f0-fb39-aaccb7bffa24"
      },
      "execution_count": 29,
      "outputs": [
        {
          "output_type": "stream",
          "name": "stdout",
          "text": [
            "/content/GenerativeDiffusionPrior/scripts\n"
          ]
        }
      ]
    }
  ]
}